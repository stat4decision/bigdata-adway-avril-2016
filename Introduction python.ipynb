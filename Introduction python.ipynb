{
 "cells": [
  {
   "cell_type": "code",
   "execution_count": 3,
   "metadata": {
    "collapsed": false
   },
   "outputs": [
    {
     "name": "stdout",
     "output_type": "stream",
     "text": [
      "2 3.5 True AdWay\n",
      "<type 'int'> <type 'float'> <type 'bool'> <type 'str'>\n"
     ]
    }
   ],
   "source": [
    "#Définir quatre variables distinctes, un entier, un float, un booléen et une chaîne de caractère et affichez-les dans la console.\n",
    "\n",
    "a=2\n",
    "b=3.5\n",
    "c=True\n",
    "d=\"AdWay\"\n",
    "\n",
    "print a, b, c, d\n",
    "print type(a),type(b),type(c),type(d)"
   ]
  },
  {
   "cell_type": "code",
   "execution_count": 6,
   "metadata": {
    "collapsed": false
   },
   "outputs": [
    {
     "name": "stdout",
     "output_type": "stream",
     "text": [
      "9 1\n"
     ]
    }
   ],
   "source": [
    "#Définir une variable X1 en utilisant des opérations d’addition et de puissance puis une seconde variable \n",
    "#X2 en utilisant le modulo et la première variable. Faire en sorte que X1=9 et X2=1.\n",
    "\n",
    "X1=(2+1)**2\n",
    "X2=X1%2\n",
    "print X1, X2\n"
   ]
  },
  {
   "cell_type": "code",
   "execution_count": 11,
   "metadata": {
    "collapsed": false
   },
   "outputs": [
    {
     "name": "stdout",
     "output_type": "stream",
     "text": [
      "PYTHON POUR LA SCIENCE\n",
      "PYTHON POUR LA DATA SCIENCE\n"
     ]
    }
   ],
   "source": [
    "#Définir une variable comprenant la chaîne ‘Python pour la Science’, \n",
    "#utilisez des opérations sur les chaînes pour afficher ‘PYTHON POUR LA DATA SCIENCE’\n",
    "\n",
    "chaine=\"Python pour la science\"\n",
    "print chaine.upper()\n",
    "\n",
    "#print chaine[:14].upper() , \"DATA\", chaine[15:].upper()"
   ]
  },
  {
   "cell_type": "code",
   "execution_count": 15,
   "metadata": {
    "collapsed": false
   },
   "outputs": [
    {
     "name": "stdout",
     "output_type": "stream",
     "text": [
      "C'est faux\n"
     ]
    }
   ],
   "source": [
    "#Créez une fonction avec un booléen en entrée qui affiche une valeur différente en fonction du booléen entré.\n",
    "def fonc1(a):\n",
    "    if a==True:\n",
    "        print \"C'est vrai\"\n",
    "    else:\n",
    "        print \"C'est faux\"\n",
    "\n",
    "fonc1(2)\n"
   ]
  },
  {
   "cell_type": "code",
   "execution_count": 17,
   "metadata": {
    "collapsed": false
   },
   "outputs": [
    {
     "name": "stdout",
     "output_type": "stream",
     "text": [
      "5\n"
     ]
    }
   ],
   "source": [
    "#Créez une boucle for qui parcourt un range de 0 à 5 et qui ajoute 1 à une variable à chaque boucle\n",
    "val=0\n",
    "for i in range(5):\n",
    "    val+=1\n",
    "\n",
    "print val\n",
    "\n"
   ]
  },
  {
   "cell_type": "code",
   "execution_count": 18,
   "metadata": {
    "collapsed": false
   },
   "outputs": [
    {
     "name": "stdout",
     "output_type": "stream",
     "text": [
      "Entrez un nombre :454\n",
      "908\n"
     ]
    }
   ],
   "source": [
    "#Créer une suite de commande, qui demande l’entrée d’un nombre, multipliez ce nombre par deux et affichez-le en sortie.\n",
    "\n",
    "nombre1 = input(\"Entrez un nombre :\")\n",
    "print nombre1*2\n"
   ]
  },
  {
   "cell_type": "code",
   "execution_count": 22,
   "metadata": {
    "collapsed": false
   },
   "outputs": [
    {
     "name": "stdout",
     "output_type": "stream",
     "text": [
      "5\n",
      "22\n",
      "[9, 7, 22]\n"
     ]
    }
   ],
   "source": [
    "#Créez une liste composée de 5 éléments, affichez la longueur de la liste.\n",
    "\n",
    "list1=[1,5,9,7,3]\n",
    "print len(list1)\n",
    "\n",
    "#Modifiez la dernière valeur de la liste et construisez une seconde liste à partir des 3 dernières valeurs de la liste initiale.\n",
    "list1[4]=22\n",
    "print list1[4]\n",
    "\n",
    "list2=list1[-3:]\n",
    "print list2"
   ]
  },
  {
   "cell_type": "code",
   "execution_count": 26,
   "metadata": {
    "collapsed": false
   },
   "outputs": [
    {
     "name": "stdout",
     "output_type": "stream",
     "text": [
      "['Vive', 'la', 'data', 'science']\n",
      "Vive la data science et python\n"
     ]
    }
   ],
   "source": [
    "#Créez la chaîne ‘Vive la data science’, transformez-la en une liste de quatre éléments.  \n",
    "char1=\"Vive la data science\"\n",
    "\n",
    "list3=char1.split(\" \")\n",
    "print list3\n",
    "#Ajoutez les valeurs ‘et’ et ‘Python’ à cette liste.  Affichez la chaîne de caractère obtenue.\n",
    "list4= list3 + [\"et\",\"python\"]\n",
    "\n",
    "char2=\" \".join(list4)\n",
    "\n",
    "print char2"
   ]
  },
  {
   "cell_type": "code",
   "execution_count": 28,
   "metadata": {
    "collapsed": false
   },
   "outputs": [
    {
     "name": "stdout",
     "output_type": "stream",
     "text": [
      "33\n",
      "55\n"
     ]
    }
   ],
   "source": [
    "#Créer une fonction sans argument qui renvoie une valeur.\n",
    "\n",
    "def fonc2():\n",
    "    return 33\n",
    "\n",
    "print fonc2()\n",
    "\n",
    "var2=22+fonc2()\n",
    "\n",
    "print var2"
   ]
  }
 ],
 "metadata": {
  "kernelspec": {
   "display_name": "Python 2",
   "language": "python",
   "name": "python2"
  },
  "language_info": {
   "codemirror_mode": {
    "name": "ipython",
    "version": 2
   },
   "file_extension": ".py",
   "mimetype": "text/x-python",
   "name": "python",
   "nbconvert_exporter": "python",
   "pygments_lexer": "ipython2",
   "version": "2.7.11"
  }
 },
 "nbformat": 4,
 "nbformat_minor": 0
}
